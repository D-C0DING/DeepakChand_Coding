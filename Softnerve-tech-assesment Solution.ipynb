{
 "cells": [
  {
   "cell_type": "markdown",
   "id": "f66bf864",
   "metadata": {},
   "source": [
    "# Solution 1"
   ]
  },
  {
   "cell_type": "markdown",
   "id": "6a685e0b",
   "metadata": {},
   "source": [
    "Method 1 (Simple) \n",
    "Use two loops. The outer loop runs from 0 to size – 1 and one by one picks all elements from left to right.\n",
    "The inner loop compares the picked element to all the elements to its right side. If the picked element is greater than\n",
    "all the elements to its right side, then the picked element is the leader. "
   ]
  },
  {
   "cell_type": "code",
   "execution_count": 16,
   "id": "9aff27b2",
   "metadata": {},
   "outputs": [
    {
     "name": "stdout",
     "output_type": "stream",
     "text": [
      "10 6 5 2 "
     ]
    }
   ],
   "source": [
    "# Python Function to print leaders in array\n",
    "\n",
    "def printLeaders(arr,size):\n",
    "\n",
    "    for i in range(0, size):\n",
    "        for j in range(i+1, size):\n",
    "            if arr[i]<=arr[j]:\n",
    "                break\n",
    "        if j == size-1: # If loop didn't break\n",
    "            print (arr[i],end=' ')\n",
    "\n",
    "# Driver function\n",
    "arr=[7,10,4,10,6,5,2]\n",
    "printLeaders(arr, len(arr))\n"
   ]
  },
  {
   "cell_type": "markdown",
   "id": "11dc28e4",
   "metadata": {},
   "source": [
    "Time Complexity: O(n*n)"
   ]
  },
  {
   "cell_type": "markdown",
   "id": "24efa7fc",
   "metadata": {},
   "source": [
    "Method 2 (Scan from right) \n",
    "Scan all the elements from right to left in an array and keep track of maximum till now. When maximum changes its value, print it."
   ]
  },
  {
   "cell_type": "code",
   "execution_count": 13,
   "id": "1311f0c9",
   "metadata": {
    "scrolled": true
   },
   "outputs": [
    {
     "name": "stdout",
     "output_type": "stream",
     "text": [
      "2 5 6 10 "
     ]
    }
   ],
   "source": [
    "# Python function to print leaders in array\n",
    "def printLeaders(arr, size):\n",
    "     \n",
    "    max_from_right = arr[size-1]   \n",
    "    print (max_from_right,end=' ')    \n",
    "    for i in range( size-2, -1, -1):        \n",
    "        if max_from_right < arr[i]:        \n",
    "            print (arr[i],end=' ')\n",
    "            max_from_right = arr[i]\n",
    "          \n",
    "# Driver function\n",
    "arr=[7,10,4,10,6,5,2]\n",
    "printLeaders(arr, len(arr))"
   ]
  },
  {
   "cell_type": "markdown",
   "id": "2cb2608b",
   "metadata": {},
   "source": [
    "Time Complexity: O(n)"
   ]
  },
  {
   "cell_type": "markdown",
   "id": "63a4f8dd",
   "metadata": {},
   "source": [
    "# Solution 2\n",
    "\n",
    "We need to find out the maximum difference (which will be the maximum profit) between two numbers in the given array. Also, the second number (selling price) must be larger than the first one (buying price).\n",
    "\n",
    "In formal terms, we need to find \\max(\\text{prices[j]} - \\text{prices[i]})max(prices[j]−prices[i]), for every ii and jj such that j > ij>i."
   ]
  },
  {
   "cell_type": "markdown",
   "id": "4a7a459f",
   "metadata": {},
   "source": [
    "Approach 1: Brute Force\n"
   ]
  },
  {
   "cell_type": "raw",
   "id": "c8ec2674",
   "metadata": {},
   "source": [
    "class Solution:\n",
    "    def maxProfit(self, prices: List[int]) -> int:\n",
    "        max_profit = 0\n",
    "        for i in range(len(prices) - 1):\n",
    "            for j in range(i + 1, len(prices)):\n",
    "                profit = prices[j] - prices[i]\n",
    "                if profit > max_profit:\n",
    "                    max_profit = profit\n",
    "                    \n",
    "        return max_profit\n",
    "        \n",
    "        \n",
    "        \n",
    "        \n",
    "Complexity Analysis\n",
    "\n",
    "Time complexity: O(n^2) Loop runs n(n−1)/2 times.\n",
    "\n",
    "Space complexity: O(1)O(1). Only two variables - maxprofit and profit are used.\n",
    "\n",
    "\n"
   ]
  },
  {
   "cell_type": "raw",
   "id": "01c2b015",
   "metadata": {},
   "source": [
    "Approach 2: One Pass\n",
    "\n",
    "Algorithm\n",
    "\n",
    "Say the given array is:\n",
    "\n",
    "[7, 1, 5, 3, 6, 4]\n"
   ]
  },
  {
   "cell_type": "raw",
   "id": "4eca2137",
   "metadata": {},
   "source": [
    "class Solution:\n",
    "    def maxProfit(self, prices: List[int]) -> int:\n",
    "        min_price = float('inf')\n",
    "        max_profit = 0\n",
    "        for i in range(len(prices)):\n",
    "            if prices[i] < min_price:\n",
    "                min_price = prices[i]\n",
    "            elif prices[i] - min_price > max_profit:\n",
    "                max_profit = prices[i] - min_price\n",
    "                \n",
    "        return max_profit\n",
    "        \n",
    "        \n",
    "        \n",
    "        \n",
    "        \n",
    "Complexity Analysis\n",
    "\n",
    "Time complexity: O(n)O(n). Only a single pass is needed.\n",
    "\n",
    "Space complexity: O(1)O(1). Only two variables are used."
   ]
  },
  {
   "cell_type": "markdown",
   "id": "885bddcc",
   "metadata": {},
   "source": [
    "# Solution 3\n",
    "\n",
    "class Solution:\n",
    "    def subsetXORSum(self, nums: List[int]) -> int:\n",
    "        \n",
    "        \"\"\"\n",
    "        an efficient approach: find bitwise OR of array. ith bit contribution to to xor sum is 2**(n-1).\n",
    "        The result is 2**(n-1) * bitORSum\n",
    "        \n",
    "        Explanation:\n",
    "        \n",
    "        consider ith bit for the final result. If there is no element whose ith bit is 1, then all xor subset \n",
    "        sums has 0 in ith bit; if there are k (k>=1) elements whose ith bits are 1, then there are in total \n",
    "        comb(k, 1) + comb(k,3) + .. = 2**(k-1) ways to select odd number our of these k elements to make the subset\n",
    "        xor sum's ith bit to be 1, and there are 2**(n-k) ways to choose from the remaining elements whose ith bits\n",
    "        are 0s. Therefore, we have in total 2**(k-1) * 2**(n-k) = 2**(n-1) subsets whose xor sums have 1 in their\n",
    "        ith bit, which means the contribution to the final sum is 2**(n-1) * 2**i. Notice this result is irrelevant\n",
    "        to k. \n",
    "        \n",
    "        So we only need to determine whether there is any element whose ith bit is 1. We use bitwise OR sum to do this.\n",
    "        \n",
    "        Time complexity: O(n), Space: O(1) \"\"\"\n",
    "   bits = 0\n",
    "        for a in nums:\n",
    "            bits |= a\n",
    "        return bits * int(pow(2, len(nums)-1))"
   ]
  },
  {
   "cell_type": "code",
   "execution_count": null,
   "id": "91b19923",
   "metadata": {},
   "outputs": [],
   "source": []
  }
 ],
 "metadata": {
  "kernelspec": {
   "display_name": "Python 3 (ipykernel)",
   "language": "python",
   "name": "python3"
  },
  "language_info": {
   "codemirror_mode": {
    "name": "ipython",
    "version": 3
   },
   "file_extension": ".py",
   "mimetype": "text/x-python",
   "name": "python",
   "nbconvert_exporter": "python",
   "pygments_lexer": "ipython3",
   "version": "3.9.7"
  }
 },
 "nbformat": 4,
 "nbformat_minor": 5
}
